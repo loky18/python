{
  "nbformat": 4,
  "nbformat_minor": 0,
  "metadata": {
    "colab": {
      "provenance": [],
      "authorship_tag": "ABX9TyMzXotsNOjTP3Obg51lgOl2",
      "include_colab_link": true
    },
    "kernelspec": {
      "name": "python3",
      "display_name": "Python 3"
    },
    "language_info": {
      "name": "python"
    }
  },
  "cells": [
    {
      "cell_type": "markdown",
      "metadata": {
        "id": "view-in-github",
        "colab_type": "text"
      },
      "source": [
        "<a href=\"https://colab.research.google.com/github/loky18/python/blob/main/lokesh_python.ipynb\" target=\"_parent\"><img src=\"https://colab.research.google.com/assets/colab-badge.svg\" alt=\"Open In Colab\"/></a>"
      ]
    },
    {
      "cell_type": "code",
      "execution_count": 5,
      "metadata": {
        "id": "Ma3RUwGdZq_-",
        "outputId": "260337ba-8d40-4bc7-e62b-a0224fc55a14",
        "colab": {
          "base_uri": "https://localhost:8080/"
        }
      },
      "outputs": [
        {
          "output_type": "stream",
          "name": "stdout",
          "text": [
            "Enter the natural numbers: 1\n",
            "Enter the natural numbers: 2\n",
            "Enter the natural numbers: 3\n",
            "Enter the natural numbers: 4\n",
            "Enter the natural numbers: 5\n",
            "Enter the natural numbers: 6\n",
            "Enter the natural numbers: 7\n",
            "Enter the natural numbers: 8\n",
            "Enter the natural numbers: 9\n",
            "Enter the natural numbers: 10\n",
            "\n",
            "  the odd numbers are[1, 3, 5, 7, 9]\n",
            "  the even numbers are[2, 4, 6, 8, 10]\n",
            "  the odd square are[1, 9, 25, 49, 81]\n",
            "  thye even square are[4, 16, 36, 64, 100]\n",
            "        \n"
          ]
        }
      ],
      "source": [
        "l=[]\n",
        "o=[]\n",
        "e=[]\n",
        "os=[]\n",
        "es=[]\n",
        "for i in range(10):\n",
        "  a=int(input(\"Enter the natural numbers: \"))\n",
        "  l.append(a)\n",
        "  if a%2==0:\n",
        "    e.append(a)\n",
        "    es.append(a*a)\n",
        "  else:\n",
        "    o.append(a)\n",
        "    os.append(a*a)\n",
        "print(f'''\n",
        "  the odd numbers are{o}\n",
        "  the even numbers are{e}\n",
        "  the odd square are{os}\n",
        "  thye even square are{es}\n",
        "        ''')\n",
        "\n"
      ]
    },
    {
      "cell_type": "code",
      "source": [
        "l=[]\n",
        "max=0\n",
        "min=1\n",
        "n=int(input(\"Enter number of elements to be entered:\"))\n",
        "for i in range(n):\n",
        "  b=int(input(\"Enter the number:\"))\n",
        "  l.append(b)\n",
        "  if max<b:\n",
        "    max=b\n",
        "  if min>b:\n",
        "    min=b\n",
        "print(f'''\n",
        "the largest number in the list is {max}\n",
        "the smallest element in the list is{min}\n",
        "      ''')\n"
      ],
      "metadata": {
        "colab": {
          "base_uri": "https://localhost:8080/"
        },
        "id": "5-iAma0Mc8Xy",
        "outputId": "3a5e2ac0-6f54-478c-bee0-14a21eac66aa"
      },
      "execution_count": 7,
      "outputs": [
        {
          "output_type": "stream",
          "name": "stdout",
          "text": [
            "Enter number of elements to be entered:5\n",
            "Enter the number:55\n",
            "Enter the number:26\n",
            "Enter the number:20\n",
            "Enter the number:1\n",
            "Enter the number:6\n",
            "\n",
            "the largest number in the list is 55\n",
            "the smallest element in the list is1\n",
            "      \n"
          ]
        }
      ]
    },
    {
      "cell_type": "code",
      "source": [
        "l=[]\n",
        "n=int(input(\"Enter number of elements to be entered:\"))\n",
        "for i in range(n):\n",
        "  b=int(input(\"Enter the number:\"))\n",
        "  l.append(b)\n",
        "for i in range(0, len(l)):\n",
        "    for j in range(i+1, len(l)):\n",
        "        if l[i] >= l[j]:\n",
        "            l[i], l[j] = l[j],l[i]\n",
        "print(f'''\n",
        "the second largest number is {l[-2]}\n",
        "the second smallest number is {l[1]}\n",
        "''')\n"
      ],
      "metadata": {
        "colab": {
          "base_uri": "https://localhost:8080/"
        },
        "id": "mGpQJl1ReSEh",
        "outputId": "dbc52b93-782a-41f1-9113-f97cef10032b"
      },
      "execution_count": 11,
      "outputs": [
        {
          "output_type": "stream",
          "name": "stdout",
          "text": [
            "Enter number of elements to be entered:5\n",
            "Enter the number:3\n",
            "Enter the number:6\n",
            "Enter the number:5\n",
            "Enter the number:8\n",
            "Enter the number:1\n",
            "\n",
            "the second largest number is 6\n",
            "the second smallest number is 3\n",
            "\n"
          ]
        }
      ]
    },
    {
      "cell_type": "code",
      "source": [
        "l=[]\n",
        "n=int(input(\"Enter number of elements to be entered:\"))\n",
        "for i in range(n):\n",
        "  b=int(input(\"Enter the number:\"))\n",
        "  l.append(b)\n",
        "l1=l\n",
        "for i in range(0, len(l)):\n",
        "    for j in range(i+1, len(l)):\n",
        "        if l[i] >= l[j]:\n",
        "            l[i], l[j] = l[j],l[i]\n",
        "print(f'''\n",
        "the ascending list is {l}\n",
        "the descending is {l1[::-1]}\n",
        "''')"
      ],
      "metadata": {
        "colab": {
          "base_uri": "https://localhost:8080/"
        },
        "id": "xtLXC0drg8TM",
        "outputId": "14fb24b7-9240-4219-e98b-934c1eeab6a3"
      },
      "execution_count": 12,
      "outputs": [
        {
          "output_type": "stream",
          "name": "stdout",
          "text": [
            "Enter number of elements to be entered:5\n",
            "Enter the number:3\n",
            "Enter the number:6\n",
            "Enter the number:4\n",
            "Enter the number:8\n",
            "Enter the number:2\n",
            "\n",
            "the ascending list is [2, 3, 4, 6, 8]\n",
            "the descending is [8, 6, 4, 3, 2]\n",
            "\n"
          ]
        }
      ]
    },
    {
      "cell_type": "code",
      "source": [
        "l=[]\n",
        "n=int(input(\"Enter number of elements to be entered:\"))\n",
        "for i in range(n):\n",
        "  b=int(input(\"Enter the number:\"))\n",
        "  l.append(b)\n",
        "y=int(input(\"Enter the number to be searched:\"))\n",
        "for i in range(n):\n",
        "  if y==l[i]:\n",
        "    print(l)\n",
        "    print(f\"the index of {y} is {i}\")\n",
        ""
      ],
      "metadata": {
        "colab": {
          "base_uri": "https://localhost:8080/"
        },
        "id": "3iejGHKLiWli",
        "outputId": "0a4b04e5-19a9-4c7f-ba4c-479f812a52c1"
      },
      "execution_count": 14,
      "outputs": [
        {
          "output_type": "stream",
          "name": "stdout",
          "text": [
            "Enter number of elements to be entered:5\n",
            "Enter the number:6\n",
            "Enter the number:8\n",
            "Enter the number:44\n",
            "Enter the number:19\n",
            "Enter the number:77\n",
            "Enter the number to be searched:44\n",
            "[6, 8, 44, 19, 77]\n",
            "the index of 44 is 2\n"
          ]
        }
      ]
    },
    {
      "cell_type": "code",
      "source": [
        "l=[]\n",
        "n=int(input(\"Enter number of elements to be entered:\"))\n",
        "for i in range(n):\n",
        "  b=int(input(\"Enter the number:\"))\n",
        "  l.append(b)\n",
        "m=0\n",
        "for i in range(n):\n",
        "  co=0\n",
        "  for j in range(n):\n",
        "    if l[i]==l[j]:\n",
        "      co+=1\n",
        "  if(co>m):\n",
        "    m=l[i]\n",
        "print(f\"frequent element is {m}\")\n"
      ],
      "metadata": {
        "colab": {
          "base_uri": "https://localhost:8080/"
        },
        "id": "UeYBqWlrjBOQ",
        "outputId": "2bf17498-3011-45cd-e8a6-a57c77020658"
      },
      "execution_count": 19,
      "outputs": [
        {
          "output_type": "stream",
          "name": "stdout",
          "text": [
            "Enter number of elements to be entered:5\n",
            "Enter the number:1\n",
            "Enter the number:5\n",
            "Enter the number:6\n",
            "Enter the number:1\n",
            "Enter the number:4\n",
            "frequent element is 1\n"
          ]
        }
      ]
    },
    {
      "cell_type": "code",
      "source": [
        "l=[]\n",
        "n=int(input(\"Enter number of elements to be entered:\"))\n",
        "for i in range(n):\n",
        "  b=input(\"Enter the keys:\")\n",
        "  l.append(b)\n",
        "l1=[]\n",
        "for i in range(n):\n",
        "  c=int(input(\"Enter the values:\"))\n",
        "  l1.append(c)\n",
        "dict={}\n",
        "for i in range(n):\n",
        "  dict[l[i]]=l1[i]\n",
        "print(dict)"
      ],
      "metadata": {
        "colab": {
          "base_uri": "https://localhost:8080/"
        },
        "id": "nVdnKlLok9RN",
        "outputId": "f2c095cb-4b47-4147-e464-498867a646f4"
      },
      "execution_count": 23,
      "outputs": [
        {
          "output_type": "stream",
          "name": "stdout",
          "text": [
            "Enter number of elements to be entered:3\n",
            "Enter the keys:loky\n",
            "Enter the keys:verma\n",
            "Enter the keys:raghav\n",
            "Enter the values:10\n",
            "Enter the values:20\n",
            "Enter the values:30\n",
            "{'loky': 10, 'verma': 20, 'raghav': 30}\n"
          ]
        }
      ]
    },
    {
      "cell_type": "code",
      "source": [
        "m=['virat','dhoni','rohit','none']\n",
        "vi=0\n",
        "dh=0\n",
        "ro=0\n",
        "n=0\n",
        "virat=[]\n",
        "dhoni=[]\n",
        "rohit=[]\n",
        "nota=[]\n",
        "l=[\"lokesh\",\"pradeep\",\"vijay\",\"surya\",\"praveen\",\"naren\",\"raghav\",\"venkat\",\"suba\",\"kavin\"]\n",
        "for i in range(10):\n",
        "    a=int(input(f\"Candidates Names:\\n1.virat\\n2.dhoni\\n3.rohit\\n4.none\\nEnter your choice {l[i]}!:\"))\n",
        "    if a==1:\n",
        "        vi+=1\n",
        "        virat.append(l[i])\n",
        "    elif a==2:\n",
        "        dh+=1\n",
        "        dhoni.append(l[i])\n",
        "    elif a==3:\n",
        "        ro+=1\n",
        "        rohit.append(l[i])\n",
        "    elif a==4:\n",
        "        n+=1\n",
        "        nota.append(l[i])\n",
        "    else:\n",
        "        print(\"Inavild choice\")\n",
        "if vi>ro and vi>dh and vi>n:\n",
        "    print(f\"Virat is the winner😎💪\\nthe voters are{virat}\")\n",
        "    if ro>dh and ro>n:\n",
        "        print(f\"Rohit is the runner!\\nvoters are{rohit}\")\n",
        "    elif dh>ro and dh>n:\n",
        "        print(f'dhoni is the runner!\\nvoters are{dhoni}')\n",
        "    else:\n",
        "        print(f\"Nota is the runner!\\nvoters are {nota}\")\n",
        "elif ro>vi and ro>dh and ro>n:\n",
        "    print(f\"Rohit is the winner!!\\nthe voters are{rohit}\")\n",
        "    if vi>dh and vi>n:\n",
        "        print(f'Virat is the runner!\\nvoters are {virat}')\n",
        "    elif dh>vi and dh>n:\n",
        "        print(f'Dhoni is the runner!\\nvoters are{dhoni}')\n",
        "    else:\n",
        "        print(f'Nota is the runner\\nvoters are {nota}')\n",
        "elif dh>vi and dh>ro and dh>n:\n",
        "    print(f\"Dhoni is the winner!\\nthe voters are{dhoni}\")\n",
        "    if vi>ro and vi>n:\n",
        "        print(f\"virat is the runner!\\nvoters are {virat}\")\n",
        "    elif ro>vi and ro>n:\n",
        "        print(f\"rohit is the runner\\nvoters are{rohit}\")\n",
        "    else:\n",
        "        print(f'Nota is the runner\\nvoters are{nota}')\n",
        "else:\n",
        "    print(f'None of the candidates have won!\\nthe nota votes are{nota}')\n",
        "    if vi>dh and vi>ro:\n",
        "        print(f'virat is runner !\\nvoters are {virat}')\n",
        "    elif ro>vi and ro>dh:\n",
        "        print(f\"rohit is the runner\\nvoters are{rohit}\")\n",
        "    else:\n",
        "        print(f\"dhoni is the runner\\nvoters are {dhoni}\")"
      ],
      "metadata": {
        "colab": {
          "base_uri": "https://localhost:8080/"
        },
        "id": "D17qMg8bmbHr",
        "outputId": "3273366b-9ecd-401e-f18e-fb1347a98135"
      },
      "execution_count": 24,
      "outputs": [
        {
          "output_type": "stream",
          "name": "stdout",
          "text": [
            "Candidates Names:\n",
            "1.virat\n",
            "2.dhoni\n",
            "3.rohit\n",
            "4.none\n",
            "Enter your choice lokesh!:1\n",
            "Candidates Names:\n",
            "1.virat\n",
            "2.dhoni\n",
            "3.rohit\n",
            "4.none\n",
            "Enter your choice pradeep!:2\n",
            "Candidates Names:\n",
            "1.virat\n",
            "2.dhoni\n",
            "3.rohit\n",
            "4.none\n",
            "Enter your choice vijay!:1\n",
            "Candidates Names:\n",
            "1.virat\n",
            "2.dhoni\n",
            "3.rohit\n",
            "4.none\n",
            "Enter your choice surya!:1\n",
            "Candidates Names:\n",
            "1.virat\n",
            "2.dhoni\n",
            "3.rohit\n",
            "4.none\n",
            "Enter your choice praveen!:1\n",
            "Candidates Names:\n",
            "1.virat\n",
            "2.dhoni\n",
            "3.rohit\n",
            "4.none\n",
            "Enter your choice naren!:4\n",
            "Candidates Names:\n",
            "1.virat\n",
            "2.dhoni\n",
            "3.rohit\n",
            "4.none\n",
            "Enter your choice raghav!:3\n",
            "Candidates Names:\n",
            "1.virat\n",
            "2.dhoni\n",
            "3.rohit\n",
            "4.none\n",
            "Enter your choice venkat!:3\n",
            "Candidates Names:\n",
            "1.virat\n",
            "2.dhoni\n",
            "3.rohit\n",
            "4.none\n",
            "Enter your choice suba!:3\n",
            "Candidates Names:\n",
            "1.virat\n",
            "2.dhoni\n",
            "3.rohit\n",
            "4.none\n",
            "Enter your choice kavin!:1\n",
            "Virat is the winner😎💪\n",
            "the voters are['lokesh', 'vijay', 'surya', 'praveen', 'kavin']\n",
            "Rohit is the runner!\n",
            "voters are['raghav', 'venkat', 'suba']\n"
          ]
        }
      ]
    },
    {
      "cell_type": "code",
      "source": [
        "def Rs_to_D():\n",
        "  x=int(input(\"Enter the indian amount:\"))\n",
        "  a=x/80\n",
        "  return a\n",
        "def Ce_to_Fr():\n",
        "  x=int(input(\"Enter the celcious:\"))\n",
        "  v=((9/5)*x)+32\n",
        "  return v\n",
        "def BMI():\n",
        "  a=int(input(\"Enter your weight in kg:\"))\n",
        "  b=int(input(\"Enter your height in metre:\"))\n",
        "  m=a/(b*b)\n",
        "  return m\n",
        "def smpr():\n",
        "  p=int(input(\"Enter the principle amount:\"))\n",
        "  r=float(input(\"Enter your rate of intrest:\"))\n",
        "  t=int(input(\"Enter your time in years:\"))\n",
        "  s=(p*r*t)/100\n",
        "  return s\n",
        "x=int(input('''\n",
        "Enter your choice!!\n",
        "1.Indian rupies to dollar\n",
        "2.Celcious to fahrenheit\n",
        "3.BMI calculation\n",
        "4.simple intrest\n",
        "'''))\n",
        "match x:\n",
        "  case 1:\n",
        "    print(Rs_to_D())\n",
        "  case 2:\n",
        "    print(Ce_to_Fr())\n",
        "  case 3:\n",
        "    print(BMI())\n",
        "  case 4:\n",
        "    print(smpr())"
      ],
      "metadata": {
        "colab": {
          "base_uri": "https://localhost:8080/"
        },
        "id": "RFD9ptPam4bq",
        "outputId": "990c5a78-b6b5-40eb-c566-5ad10ea5d495"
      },
      "execution_count": 28,
      "outputs": [
        {
          "output_type": "stream",
          "name": "stdout",
          "text": [
            "\n",
            "Enter your choice!!\n",
            "1.Indian rupies to dollar\n",
            "2.Celcious to fahrenheit\n",
            "3.BMI calculation\n",
            "4.simple intrest\n",
            "4\n",
            "Enter the principle amount:10000\n",
            "Enter your rate of intrest:2\n",
            "Enter your time in years:3\n",
            "600.0\n"
          ]
        }
      ]
    },
    {
      "cell_type": "code",
      "source": [
        "l=[]\n",
        "n=int(input(\"Enter number of elements to be entered:\"))\n",
        "for i in range(n):\n",
        "  b=int(input(\"Enter the number:\"))\n",
        "  l.append(b)\n",
        "for i in range(0, len(l)):\n",
        "    for j in range(i+1, len(l)):\n",
        "        if l[i] >= l[j]:\n",
        "            l[i], l[j] = l[j],l[i]\n",
        "print(l)"
      ],
      "metadata": {
        "colab": {
          "base_uri": "https://localhost:8080/"
        },
        "id": "lBHady-Ar4Ni",
        "outputId": "38cb397e-29ca-490a-a11f-8a7577435c50"
      },
      "execution_count": 29,
      "outputs": [
        {
          "output_type": "stream",
          "name": "stdout",
          "text": [
            "Enter number of elements to be entered:6\n",
            "Enter the number:1\n",
            "Enter the number:0\n",
            "Enter the number:0\n",
            "Enter the number:1\n",
            "Enter the number:1\n",
            "Enter the number:0\n",
            "[0, 0, 0, 1, 1, 1]\n"
          ]
        }
      ]
    }
  ]
}